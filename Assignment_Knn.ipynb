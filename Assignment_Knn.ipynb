{
  "nbformat": 4,
  "nbformat_minor": 0,
  "metadata": {
    "colab": {
      "provenance": [],
      "collapsed_sections": [],
      "authorship_tag": "ABX9TyMv6wPSrU0d/EV3THcGxrV0",
      "include_colab_link": true
    },
    "kernelspec": {
      "name": "python3",
      "display_name": "Python 3"
    },
    "language_info": {
      "name": "python"
    },
    "accelerator": "GPU",
    "gpuClass": "standard"
  },
  "cells": [
    {
      "cell_type": "markdown",
      "metadata": {
        "id": "view-in-github",
        "colab_type": "text"
      },
      "source": [
        "<a href=\"https://colab.research.google.com/github/turjo997/Pattern-Recognition/blob/main/Assignment_Knn.ipynb\" target=\"_parent\"><img src=\"https://colab.research.google.com/assets/colab-badge.svg\" alt=\"Open In Colab\"/></a>"
      ]
    },
    {
      "cell_type": "code",
      "execution_count": null,
      "metadata": {
        "id": "Itd1lNsd66xb"
      },
      "outputs": [],
      "source": [
        "import pandas as pd\n",
        "import numpy as np\n",
        "import math\n",
        "from matplotlib import pyplot as plt\n",
        "%matplotlib inline\n",
        "import scipy.spatial\n",
        "from collections import Counter"
      ]
    },
    {
      "cell_type": "code",
      "source": [
        "from google.colab import drive\n",
        "drive.mount('/content/drive')"
      ],
      "metadata": {
        "colab": {
          "base_uri": "https://localhost:8080/"
        },
        "id": "P1vMJUGH7ito",
        "outputId": "0e9317fe-cd9d-4d4b-d6dc-1c4bc3a966b3"
      },
      "execution_count": null,
      "outputs": [
        {
          "output_type": "stream",
          "name": "stdout",
          "text": [
            "Drive already mounted at /content/drive; to attempt to forcibly remount, call drive.mount(\"/content/drive\", force_remount=True).\n"
          ]
        }
      ]
    },
    {
      "cell_type": "code",
      "source": [
        "dir1 = \"/content/drive/MyDrive/Random Files/train_knn.txt\"\n",
        "dir2 = \"/content/drive/MyDrive/Random Files/test_knn.txt\""
      ],
      "metadata": {
        "id": "WYv03srk7irC"
      },
      "execution_count": null,
      "outputs": []
    },
    {
      "cell_type": "code",
      "source": [
        "df = pd.read_csv(dir1 , sep=\",\" ,  header = None, dtype = 'Float64')\n",
        "df.columns = ['X1','X2' , 'label']\n",
        "print(df)"
      ],
      "metadata": {
        "colab": {
          "base_uri": "https://localhost:8080/"
        },
        "id": "weu9Bc9_7io5",
        "outputId": "5b0cd6de-8249-4141-fe3c-036b4f3b132b"
      },
      "execution_count": null,
      "outputs": [
        {
          "output_type": "stream",
          "name": "stdout",
          "text": [
            "     X1   X2  label\n",
            "0   7.0  7.0    1.0\n",
            "1   7.0  4.0    1.0\n",
            "2   6.0  4.0    1.0\n",
            "3   7.0  5.0    1.0\n",
            "4   7.0  6.0    1.0\n",
            "5   6.0  7.0    1.0\n",
            "6   6.0  6.0    1.0\n",
            "7   3.0  4.0    2.0\n",
            "8   2.0  3.0    2.0\n",
            "9   3.0  2.0    2.0\n",
            "10  4.0  3.0    2.0\n",
            "11  3.0  3.0    2.0\n",
            "12  4.0  4.0    2.0\n",
            "13  1.0  4.0    2.0\n"
          ]
        }
      ]
    },
    {
      "cell_type": "code",
      "source": [
        "df1 = pd.read_csv(dir2 , sep=\",\" ,  header = None, dtype = 'Float64')\n",
        "df1.columns = ['X1','X2']\n",
        "print(df1)"
      ],
      "metadata": {
        "colab": {
          "base_uri": "https://localhost:8080/"
        },
        "id": "NWw3MXpoRINe",
        "outputId": "97cc55a9-f4b6-4844-80c2-de8a163c3fba"
      },
      "execution_count": null,
      "outputs": [
        {
          "output_type": "stream",
          "name": "stdout",
          "text": [
            "    X1   X2\n",
            "0  3.0  7.0\n",
            "1  7.0  7.0\n",
            "2  4.0  3.0\n",
            "3  2.0  8.0\n",
            "4  3.0  5.0\n",
            "5  1.0  2.0\n",
            "6  4.0  8.0\n",
            "7  8.0  3.0\n",
            "8  8.0  4.0\n"
          ]
        }
      ]
    },
    {
      "cell_type": "code",
      "source": [
        "trainval = df.values\n",
        "testval = df1.values"
      ],
      "metadata": {
        "id": "RbQnFEy67iml"
      },
      "execution_count": null,
      "outputs": []
    },
    {
      "cell_type": "code",
      "source": [
        "trainval.ndim"
      ],
      "metadata": {
        "colab": {
          "base_uri": "https://localhost:8080/"
        },
        "id": "sijUSko0pMtH",
        "outputId": "a6c7cfd5-d849-4bf6-94cf-873ffc400055"
      },
      "execution_count": null,
      "outputs": [
        {
          "output_type": "execute_result",
          "data": {
            "text/plain": [
              "2"
            ]
          },
          "metadata": {},
          "execution_count": 316
        }
      ]
    },
    {
      "cell_type": "code",
      "source": [
        "class1X1 = []\n",
        "class1X2 = []\n",
        "\n",
        "class2X1 = []\n",
        "class2X2 = []\n",
        "\n",
        "for i , j , k in trainval:\n",
        "  if k == 1.0:\n",
        "    class1X1.append(i)\n",
        "    class1X2.append(j)\n",
        "  else:\n",
        "    class2X1.append(i)\n",
        "    class2X2.append(j)"
      ],
      "metadata": {
        "id": "W8199M7s7ikE"
      },
      "execution_count": null,
      "outputs": []
    },
    {
      "cell_type": "code",
      "source": [
        "class1X1 = np.array(class1X1)\n",
        "class1X2 = np.array(class1X2)\n",
        "class2X1 = np.array(class2X1)\n",
        "class2X2 = np.array(class2X2)"
      ],
      "metadata": {
        "id": "gzaVJlbO9JRY"
      },
      "execution_count": null,
      "outputs": []
    },
    {
      "cell_type": "code",
      "source": [
        "plt.figure(figsize=(8,8))\n",
        "plt.scatter(class1X1, class1X2, c='red', label = 'Test Class-1', marker = '+')\n",
        "plt.scatter(class2X1, class2X2, c='blue', label = 'Test Class-2', marker = 'o')\n",
        "plt.legend()\n",
        "plt.show()"
      ],
      "metadata": {
        "colab": {
          "base_uri": "https://localhost:8080/",
          "height": 483
        },
        "id": "A_UAJ2xH9jUO",
        "outputId": "a6ad6d22-34c0-4b31-d234-4ea10ad30979"
      },
      "execution_count": null,
      "outputs": [
        {
          "output_type": "display_data",
          "data": {
            "text/plain": [
              "<Figure size 576x576 with 1 Axes>"
            ],
            "image/png": "[encoded data removed]"
          },
          "metadata": {
            "needs_background": "light"
          }
        }
      ]
    },
    {
      "cell_type": "code",
      "source": [
        "X_train  = [] \n",
        "for i , j , k in trainval:\n",
        "  ar = np.array([i , j])\n",
        "  X_train.append(np.hstack(ar))\n",
        "\n",
        "X_train = np.array(X_train)\n",
        "X_train.ndim  "
      ],
      "metadata": {
        "colab": {
          "base_uri": "https://localhost:8080/"
        },
        "id": "36Mv4qQeONoP",
        "outputId": "0cedee4d-4bd2-4991-bdf3-dca6b67bd830"
      },
      "execution_count": null,
      "outputs": [
        {
          "output_type": "execute_result",
          "data": {
            "text/plain": [
              "2"
            ]
          },
          "metadata": {},
          "execution_count": 339
        }
      ]
    },
    {
      "cell_type": "code",
      "source": [
        "X_test  = [] \n",
        "for i , j  in testval:\n",
        "  ar = np.array([i , j])\n",
        "  X_test.append(np.hstack(ar))\n",
        "\n",
        "X_test = np.array(X_test)\n",
        "X_test.ndim  "
      ],
      "metadata": {
        "colab": {
          "base_uri": "https://localhost:8080/"
        },
        "id": "8fkqhxQvRWNl",
        "outputId": "dabe79e7-4d48-4f3d-8a4c-9102d4213b04"
      },
      "execution_count": null,
      "outputs": [
        {
          "output_type": "execute_result",
          "data": {
            "text/plain": [
              "2"
            ]
          },
          "metadata": {},
          "execution_count": 340
        }
      ]
    },
    {
      "cell_type": "code",
      "source": [
        "Y_train  = [] \n",
        "for i , j , k  in trainval:\n",
        "  Y_train.append(k)\n",
        "\n",
        "Y_train = np.array(Y_train)\n",
        "Y_train  "
      ],
      "metadata": {
        "colab": {
          "base_uri": "https://localhost:8080/"
        },
        "id": "0yxPtv1fSzrm",
        "outputId": "e41f19ca-ca1d-42bf-a554-a3b5459ebe26"
      },
      "execution_count": null,
      "outputs": [
        {
          "output_type": "execute_result",
          "data": {
            "text/plain": [
              "array([1., 1., 1., 1., 1., 1., 1., 2., 2., 2., 2., 2., 2., 2.])"
            ]
          },
          "metadata": {},
          "execution_count": 341
        }
      ]
    },
    {
      "cell_type": "code",
      "source": [
        "def euclidean_distance(pt1 , pt2):\n",
        "    distance = np.linalg.norm(pt2-pt1)\n",
        "    return distance"
      ],
      "metadata": {
        "id": "kSyddzkY92Kj"
      },
      "execution_count": null,
      "outputs": []
    },
    {
      "cell_type": "code",
      "source": [
        "distance = []\n",
        "def KNN(X_train , X_test , Y_train , k):\n",
        "    final_output = []\n",
        "    for i in range(len(X_test)):\n",
        "        dis = []\n",
        "        for j in range(len(X_train)):\n",
        "            dist = (euclidean_distance(X_test[i] , X_train[j]))\n",
        "            dis.append([dist , j])\n",
        "       \n",
        "        dis.sort()\n",
        "       \n",
        "        votes = []\n",
        "        dis = dis[0:k]\n",
        "       # print(dis[0])\n",
        "        \n",
        "        distance.append(dis)\n",
        "        \n",
        "        votes = []\n",
        "        for p , j in dis:\n",
        "          #print(p , j , Y_train[j])\n",
        "          votes.append(Y_train[j])\n",
        "        ans = Counter(votes).most_common(1)[0][0]\n",
        "        final_output.append(ans)\n",
        "           \n",
        "        \n",
        "    return final_output  "
      ],
      "metadata": {
        "id": "qJ-B15a492H8"
      },
      "execution_count": null,
      "outputs": []
    },
    {
      "cell_type": "code",
      "source": [
        "k = input('Choose the k value')\n",
        "print(k)"
      ],
      "metadata": {
        "colab": {
          "base_uri": "https://localhost:8080/"
        },
        "id": "mLNSuIQkxQ0-",
        "outputId": "5ceae178-3a80-4b41-f8c6-5aff86b33f47"
      },
      "execution_count": null,
      "outputs": [
        {
          "output_type": "stream",
          "name": "stdout",
          "text": [
            "Choose the k value5\n",
            "5\n"
          ]
        }
      ]
    },
    {
      "cell_type": "code",
      "source": [
        "k = int(k)\n",
        "res  = KNN(X_train , X_test , Y_train  , k)\n",
        "\n",
        "test1X1 = []\n",
        "test1X2 = []\n",
        "\n",
        "test2X1 = []\n",
        "test2X2 = []\n",
        "print(\"The test data set result is : \" , end= ' ')\n",
        "for i in range(len(res)):\n",
        "  if res[i] == 1.0:\n",
        "    test1X1.append(testval[i][0])\n",
        "    test1X2.append(testval[i][1])\n",
        "  else:\n",
        "    test2X1.append(testval[i][0])\n",
        "    test2X2.append(testval[i][1])\n",
        "\n",
        "  print(res[i] , end= ' ')"
      ],
      "metadata": {
        "colab": {
          "base_uri": "https://localhost:8080/"
        },
        "id": "Hcrb_KHR92FQ",
        "outputId": "800743e3-e74e-4124-e68d-6fdac6a0ce05"
      },
      "execution_count": null,
      "outputs": [
        {
          "output_type": "stream",
          "name": "stdout",
          "text": [
            "The test data set result is :  2.0 1.0 2.0 2.0 2.0 2.0 1.0 1.0 1.0 "
          ]
        }
      ]
    },
    {
      "cell_type": "code",
      "source": [
        "test1X1 = np.array(test1X1)\n",
        "test1X2 = np.array(test1X2)\n",
        "test2X1 = np.array(test2X1)\n",
        "test2X2 = np.array(test2X2)"
      ],
      "metadata": {
        "id": "98bUIC8_VHq9"
      },
      "execution_count": null,
      "outputs": []
    },
    {
      "cell_type": "code",
      "source": [
        "plt.figure(figsize=(8,8))\n",
        "plt.scatter(test1X1, test1X2, c='red', label = 'Test Class-1', marker = '+')\n",
        "plt.scatter(test2X1, test2X2, c='blue', label = 'Test Class-2', marker = 'o')\n",
        "plt.legend()\n",
        "plt.show()"
      ],
      "metadata": {
        "colab": {
          "base_uri": "https://localhost:8080/",
          "height": 483
        },
        "id": "p5ZHnzb9V-F9",
        "outputId": "88a237e8-0657-4cda-dc8a-0d0ff20459b8"
      },
      "execution_count": null,
      "outputs": [
        {
          "output_type": "display_data",
          "data": {
            "text/plain": [
              "<Figure size 576x576 with 1 Axes>"
            ],
            "image/png": "[encoded data removed]"
          },
          "metadata": {
            "needs_background": "light"
          }
        }
      ]
    },
    {
      "cell_type": "code",
      "source": [
        "distance1 = np.array(distance)\n",
        "\n",
        "for j in range(len(distance)):\n",
        "  for i  in range(k):\n",
        "    d = distance1[j,i,0]\n",
        "    ind = int(distance1[j,i,1])\n",
        "    print('Distance-' , i + 1 , 'is ' , d, '  class: ' , Y_train[ind])\n",
        "\n",
        "  print('predicted class: ' , res[j])\n",
        "  print('\\n')\n",
        "  "
      ],
      "metadata": {
        "colab": {
          "base_uri": "https://localhost:8080/"
        },
        "id": "LSAYEyx_l5QY",
        "outputId": "3d724d3b-1a7a-4b3f-d16e-9f99663299c2"
      },
      "execution_count": null,
      "outputs": [
        {
          "output_type": "stream",
          "name": "stdout",
          "text": [
            "Distance- 1 is  3.0   class:  1.0\n",
            "Distance- 2 is  3.0   class:  2.0\n",
            "Distance- 3 is  3.1622776601683795   class:  1.0\n",
            "Distance- 4 is  3.1622776601683795   class:  2.0\n",
            "Distance- 5 is  3.605551275463989   class:  2.0\n",
            "predicted class:  2.0\n",
            "\n",
            "\n",
            "Distance- 1 is  0.0   class:  1.0\n",
            "Distance- 2 is  1.0   class:  1.0\n",
            "Distance- 3 is  1.0   class:  1.0\n",
            "Distance- 4 is  1.4142135623730951   class:  1.0\n",
            "Distance- 5 is  2.0   class:  1.0\n",
            "predicted class:  1.0\n",
            "\n",
            "\n",
            "Distance- 1 is  0.0   class:  2.0\n",
            "Distance- 2 is  1.0   class:  2.0\n",
            "Distance- 3 is  1.0   class:  2.0\n",
            "Distance- 4 is  1.4142135623730951   class:  2.0\n",
            "Distance- 5 is  1.4142135623730951   class:  2.0\n",
            "predicted class:  2.0\n",
            "\n",
            "\n",
            "Distance- 1 is  4.123105625617661   class:  1.0\n",
            "Distance- 2 is  4.123105625617661   class:  2.0\n",
            "Distance- 3 is  4.123105625617661   class:  2.0\n",
            "Distance- 4 is  4.47213595499958   class:  1.0\n",
            "Distance- 5 is  4.47213595499958   class:  2.0\n",
            "predicted class:  2.0\n",
            "\n",
            "\n",
            "Distance- 1 is  1.0   class:  2.0\n",
            "Distance- 2 is  1.4142135623730951   class:  2.0\n",
            "Distance- 3 is  2.0   class:  2.0\n",
            "Distance- 4 is  2.23606797749979   class:  2.0\n",
            "Distance- 5 is  2.23606797749979   class:  2.0\n",
            "predicted class:  2.0\n",
            "\n",
            "\n",
            "Distance- 1 is  1.4142135623730951   class:  2.0\n",
            "Distance- 2 is  2.0   class:  2.0\n",
            "Distance- 3 is  2.0   class:  2.0\n",
            "Distance- 4 is  2.23606797749979   class:  2.0\n",
            "Distance- 5 is  2.8284271247461903   class:  2.0\n",
            "predicted class:  2.0\n",
            "\n",
            "\n",
            "Distance- 1 is  2.23606797749979   class:  1.0\n",
            "Distance- 2 is  2.8284271247461903   class:  1.0\n",
            "Distance- 3 is  3.1622776601683795   class:  1.0\n",
            "Distance- 4 is  3.605551275463989   class:  1.0\n",
            "Distance- 5 is  4.0   class:  2.0\n",
            "predicted class:  1.0\n",
            "\n",
            "\n",
            "Distance- 1 is  1.4142135623730951   class:  1.0\n",
            "Distance- 2 is  2.23606797749979   class:  1.0\n",
            "Distance- 3 is  2.23606797749979   class:  1.0\n",
            "Distance- 4 is  3.1622776601683795   class:  1.0\n",
            "Distance- 5 is  3.605551275463989   class:  1.0\n",
            "predicted class:  1.0\n",
            "\n",
            "\n",
            "Distance- 1 is  1.0   class:  1.0\n",
            "Distance- 2 is  1.4142135623730951   class:  1.0\n",
            "Distance- 3 is  2.0   class:  1.0\n",
            "Distance- 4 is  2.23606797749979   class:  1.0\n",
            "Distance- 5 is  2.8284271247461903   class:  1.0\n",
            "predicted class:  1.0\n",
            "\n",
            "\n"
          ]
        }
      ]
    }
  ]
}