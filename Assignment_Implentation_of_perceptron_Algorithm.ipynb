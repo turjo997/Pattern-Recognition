{
  "nbformat": 4,
  "nbformat_minor": 0,
  "metadata": {
    "colab": {
      "provenance": [],
      "collapsed_sections": [],
      "authorship_tag": "ABX9TyMcyRprO6rFBP6+UtxLenKP",
      "include_colab_link": true
    },
    "kernelspec": {
      "name": "python3",
      "display_name": "Python 3"
    },
    "language_info": {
      "name": "python"
    },
    "accelerator": "GPU",
    "gpuClass": "standard"
  },
  "cells": [
    {
      "cell_type": "markdown",
      "metadata": {
        "id": "view-in-github",
        "colab_type": "text"
      },
      "source": [
        "<a href=\"https://colab.research.google.com/github/turjo997/Pattern-Recognition/blob/main/Assignment_Implentation_of_perceptron_Algorithm.ipynb\" target=\"_parent\"><img src=\"https://colab.research.google.com/assets/colab-badge.svg\" alt=\"Open In Colab\"/></a>"
      ]
    },
    {
      "cell_type": "code",
      "source": [
        "import pandas as pd\n",
        "import numpy as np\n",
        "from matplotlib import pyplot as plt\n",
        "%matplotlib inline"
      ],
      "metadata": {
        "id": "RqHxGw1rrA8-"
      },
      "execution_count": null,
      "outputs": []
    },
    {
      "cell_type": "code",
      "source": [
        "from google.colab import drive\n",
        "drive.mount('/content/drive')"
      ],
      "metadata": {
        "colab": {
          "base_uri": "https://localhost:8080/"
        },
        "id": "wPYie-9Bp_D3",
        "outputId": "fcd05e51-43bb-47e9-99c7-add024c4d4a2"
      },
      "execution_count": null,
      "outputs": [
        {
          "output_type": "stream",
          "name": "stdout",
          "text": [
            "Mounted at /content/drive\n"
          ]
        }
      ]
    },
    {
      "cell_type": "code",
      "source": [
        "dir = \"/content/drive/MyDrive/PatternRecognition/train-perceptron.txt\""
      ],
      "metadata": {
        "id": "kvZMaH5eqips"
      },
      "execution_count": null,
      "outputs": []
    },
    {
      "cell_type": "code",
      "source": [
        "df = pd.read_csv(dir, sep=\" \" , header = None,dtype = 'Float64')\n",
        "df.columns = ['X1','X2','Class_label']\n",
        "print(df)"
      ],
      "metadata": {
        "colab": {
          "base_uri": "https://localhost:8080/"
        },
        "id": "V6jAPMXrrAWR",
        "outputId": "eecaf1e4-e875-409b-e771-c30e21dca2cd"
      },
      "execution_count": null,
      "outputs": [
        {
          "output_type": "stream",
          "name": "stdout",
          "text": [
            "    X1   X2  Class_label\n",
            "0  1.0  1.0          1.0\n",
            "1  1.0 -1.0          1.0\n",
            "2  2.0  2.5          2.0\n",
            "3  0.0  2.0          2.0\n",
            "4  2.0  3.0          2.0\n",
            "5  4.0  5.0          1.0\n"
          ]
        }
      ]
    },
    {
      "cell_type": "code",
      "source": [
        "df.describe()"
      ],
      "metadata": {
        "colab": {
          "base_uri": "https://localhost:8080/",
          "height": 300
        },
        "id": "b5u_IgE4s8SV",
        "outputId": "dd3ff124-dfd7-4f20-adf7-5cf8bf07ac05"
      },
      "execution_count": null,
      "outputs": [
        {
          "output_type": "execute_result",
          "data": {
            "text/plain": [
              "             X1        X2  Class_label\n",
              "count  6.000000  6.000000     6.000000\n",
              "mean   1.666667  2.083333     1.500000\n",
              "std    1.366260  2.010390     0.547723\n",
              "min    0.000000 -1.000000     1.000000\n",
              "25%    1.000000  1.250000     1.000000\n",
              "50%    1.500000  2.250000     1.500000\n",
              "75%    2.000000  2.875000     2.000000\n",
              "max    4.000000  5.000000     2.000000"
            ],
            "text/html": [
              "\n",
              "  <div id=\"df-f9f58ed8-6c9f-4ff2-94f7-450d9f6bfa44\">\n",
              "    <div class=\"colab-df-container\">\n",
              "      <div>\n",
              "<style scoped>\n",
              "    .dataframe tbody tr th:only-of-type {\n",
              "        vertical-align: middle;\n",
              "    }\n",
              "\n",
              "    .dataframe tbody tr th {\n",
              "        vertical-align: top;\n",
              "    }\n",
              "\n",
              "    .dataframe thead th {\n",
              "        text-align: right;\n",
              "    }\n",
              "</style>\n",
              "<table border=\"1\" class=\"dataframe\">\n",
              "  <thead>\n",
              "    <tr style=\"text-align: right;\">\n",
              "      <th></th>\n",
              "      <th>X1</th>\n",
              "      <th>X2</th>\n",
              "      <th>Class_label</th>\n",
              "    </tr>\n",
              "  </thead>\n",
              "  <tbody>\n",
              "    <tr>\n",
              "      <th>count</th>\n",
              "      <td>6.000000</td>\n",
              "      <td>6.000000</td>\n",
              "      <td>6.000000</td>\n",
              "    </tr>\n",
              "    <tr>\n",
              "      <th>mean</th>\n",
              "      <td>1.666667</td>\n",
              "      <td>2.083333</td>\n",
              "      <td>1.500000</td>\n",
              "    </tr>\n",
              "    <tr>\n",
              "      <th>std</th>\n",
              "      <td>1.366260</td>\n",
              "      <td>2.010390</td>\n",
              "      <td>0.547723</td>\n",
              "    </tr>\n",
              "    <tr>\n",
              "      <th>min</th>\n",
              "      <td>0.000000</td>\n",
              "      <td>-1.000000</td>\n",
              "      <td>1.000000</td>\n",
              "    </tr>\n",
              "    <tr>\n",
              "      <th>25%</th>\n",
              "      <td>1.000000</td>\n",
              "      <td>1.250000</td>\n",
              "      <td>1.000000</td>\n",
              "    </tr>\n",
              "    <tr>\n",
              "      <th>50%</th>\n",
              "      <td>1.500000</td>\n",
              "      <td>2.250000</td>\n",
              "      <td>1.500000</td>\n",
              "    </tr>\n",
              "    <tr>\n",
              "      <th>75%</th>\n",
              "      <td>2.000000</td>\n",
              "      <td>2.875000</td>\n",
              "      <td>2.000000</td>\n",
              "    </tr>\n",
              "    <tr>\n",
              "      <th>max</th>\n",
              "      <td>4.000000</td>\n",
              "      <td>5.000000</td>\n",
              "      <td>2.000000</td>\n",
              "    </tr>\n",
              "  </tbody>\n",
              "</table>\n",
              "</div>\n",
              "      <button class=\"colab-df-convert\" onclick=\"convertToInteractive('df-f9f58ed8-6c9f-4ff2-94f7-450d9f6bfa44')\"\n",
              "              title=\"Convert this dataframe to an interactive table.\"\n",
              "              style=\"display:none;\">\n",
              "        \n",
              "  <svg xmlns=\"http://www.w3.org/2000/svg\" height=\"24px\"viewBox=\"0 0 24 24\"\n",
              "       width=\"24px\">\n",
              "    <path d=\"M0 0h24v24H0V0z\" fill=\"none\"/>\n",
              "    <path d=\"M18.56 5.44l.94 2.06.94-2.06 2.06-.94-2.06-.94-.94-2.06-.94 2.06-2.06.94zm-11 1L8.5 8.5l.94-2.06 2.06-.94-2.06-.94L8.5 2.5l-.94 2.06-2.06.94zm10 10l.94 2.06.94-2.06 2.06-.94-2.06-.94-.94-2.06-.94 2.06-2.06.94z\"/><path d=\"M17.41 7.96l-1.37-1.37c-.4-.4-.92-.59-1.43-.59-.52 0-1.04.2-1.43.59L10.3 9.45l-7.72 7.72c-.78.78-.78 2.05 0 2.83L4 21.41c.39.39.9.59 1.41.59.51 0 1.02-.2 1.41-.59l7.78-7.78 2.81-2.81c.8-.78.8-2.07 0-2.86zM5.41 20L4 18.59l7.72-7.72 1.47 1.35L5.41 20z\"/>\n",
              "  </svg>\n",
              "      </button>\n",
              "      \n",
              "  <style>\n",
              "    .colab-df-container {\n",
              "      display:flex;\n",
              "      flex-wrap:wrap;\n",
              "      gap: 12px;\n",
              "    }\n",
              "\n",
              "    .colab-df-convert {\n",
              "      background-color: #E8F0FE;\n",
              "      border: none;\n",
              "      border-radius: 50%;\n",
              "      cursor: pointer;\n",
              "      display: none;\n",
              "      fill: #1967D2;\n",
              "      height: 32px;\n",
              "      padding: 0 0 0 0;\n",
              "      width: 32px;\n",
              "    }\n",
              "\n",
              "    .colab-df-convert:hover {\n",
              "      background-color: #E2EBFA;\n",
              "      box-shadow: 0px 1px 2px rgba(60, 64, 67, 0.3), 0px 1px 3px 1px rgba(60, 64, 67, 0.15);\n",
              "      fill: #174EA6;\n",
              "    }\n",
              "\n",
              "    [theme=dark] .colab-df-convert {\n",
              "      background-color: #3B4455;\n",
              "      fill: #D2E3FC;\n",
              "    }\n",
              "\n",
              "    [theme=dark] .colab-df-convert:hover {\n",
              "      background-color: #434B5C;\n",
              "      box-shadow: 0px 1px 3px 1px rgba(0, 0, 0, 0.15);\n",
              "      filter: drop-shadow(0px 1px 2px rgba(0, 0, 0, 0.3));\n",
              "      fill: #FFFFFF;\n",
              "    }\n",
              "  </style>\n",
              "\n",
              "      <script>\n",
              "        const buttonEl =\n",
              "          document.querySelector('#df-f9f58ed8-6c9f-4ff2-94f7-450d9f6bfa44 button.colab-df-convert');\n",
              "        buttonEl.style.display =\n",
              "          google.colab.kernel.accessAllowed ? 'block' : 'none';\n",
              "\n",
              "        async function convertToInteractive(key) {\n",
              "          const element = document.querySelector('#df-f9f58ed8-6c9f-4ff2-94f7-450d9f6bfa44');\n",
              "          const dataTable =\n",
              "            await google.colab.kernel.invokeFunction('convertToInteractive',\n",
              "                                                     [key], {});\n",
              "          if (!dataTable) return;\n",
              "\n",
              "          const docLinkHtml = 'Like what you see? Visit the ' +\n",
              "            '<a target=\"_blank\" href=https://colab.research.google.com/notebooks/data_table.ipynb>data table notebook</a>'\n",
              "            + ' to learn more about interactive tables.';\n",
              "          element.innerHTML = '';\n",
              "          dataTable['output_type'] = 'display_data';\n",
              "          await google.colab.output.renderOutput(dataTable, element);\n",
              "          const docLink = document.createElement('div');\n",
              "          docLink.innerHTML = docLinkHtml;\n",
              "          element.appendChild(docLink);\n",
              "        }\n",
              "      </script>\n",
              "    </div>\n",
              "  </div>\n",
              "  "
            ]
          },
          "metadata": {},
          "execution_count": 5
        }
      ]
    },
    {
      "cell_type": "code",
      "source": [
        "df.isnull().sum()"
      ],
      "metadata": {
        "colab": {
          "base_uri": "https://localhost:8080/"
        },
        "id": "-uMryzrHs9sj",
        "outputId": "08e369d3-4626-482b-821d-f3126927c147"
      },
      "execution_count": null,
      "outputs": [
        {
          "output_type": "execute_result",
          "data": {
            "text/plain": [
              "X1             0\n",
              "X2             0\n",
              "Class_label    0\n",
              "dtype: int64"
            ]
          },
          "metadata": {},
          "execution_count": 6
        }
      ]
    },
    {
      "cell_type": "code",
      "source": [
        "Feature1 = np.array(df['X1'].copy())\n",
        "Feature2 = np.array(df['X2'].copy())\n",
        "level = np.array(df['Class_label'].copy())\n",
        "\n",
        "class1X1 = []\n",
        "class1X2 = []\n",
        "\n",
        "class2X1 = []\n",
        "class2X2 = []\n",
        "\n",
        "for i in range(len(level)):\n",
        "\n",
        "  if (level[i] == 1.0):\n",
        "    class1X1.append(Feature1[i])\n",
        "    class1X2.append(Feature2[i])\n",
        "  else:\n",
        "    class2X1.append(Feature1[i])\n",
        "    class2X2.append(Feature2[i])\n",
        "\n",
        "plt.figure(figsize=(8,5))\n",
        "plt.scatter(class1X1, class1X2, c='red', label = 'Training Class-1', marker = '+')\n",
        "plt.scatter(class2X1, class2X2, c='blue', label = 'Training Class-2', marker = 'o')\n",
        "plt.legend(loc = 'upper left')\n",
        "plt.show()\n"
      ],
      "metadata": {
        "colab": {
          "base_uri": "https://localhost:8080/",
          "height": 320
        },
        "id": "QWfzIPETtB7y",
        "outputId": "86aa29d0-985d-4b9a-8b75-561d572c2388"
      },
      "execution_count": null,
      "outputs": [
        {
          "output_type": "display_data",
          "data": {
            "text/plain": [
              "<Figure size 576x360 with 1 Axes>"
            ],
            "image/png": "[encoded data removed]"
          },
          "metadata": {
            "needs_background": "light"
          }
        }
      ]
    },
    {
      "cell_type": "code",
      "source": [
        "print(class1X1)\n",
        "print(class1X2)"
      ],
      "metadata": {
        "colab": {
          "base_uri": "https://localhost:8080/"
        },
        "id": "MNmxnLWN0fyr",
        "outputId": "4b52fac3-20e2-47b0-ba8c-b52c32273aaf"
      },
      "execution_count": null,
      "outputs": [
        {
          "output_type": "stream",
          "name": "stdout",
          "text": [
            "[1.0, 1.0, 4.0]\n",
            "[1.0, -1.0, 5.0]\n"
          ]
        }
      ]
    },
    {
      "cell_type": "code",
      "source": [
        "HD_Class1 = []\n",
        "HD_Class2 = []\n",
        "\n",
        "\n",
        "for i in range(len(class1X1)):\n",
        "   HD_Class1.append([class1X1[i]**2 , class1X2[i]**2 , class1X1[i] * class1X2[i] , class1X1[i] , class1X2[i] , 1])\n",
        "\n",
        "for i in range(len(class1X1)):\n",
        "   HD_Class2.append([class2X1[i]**2 , class2X2[i]**2 , class2X1[i] * class2X2[i] , class2X1[i] , class2X2[i] , 1])   \n",
        "\n",
        "HD_Class1 = np.array(HD_Class1)\n",
        "HD_Class2 = np.array(HD_Class2)"
      ],
      "metadata": {
        "id": "B6_mo2G5Fuu-"
      },
      "execution_count": null,
      "outputs": []
    },
    {
      "cell_type": "code",
      "source": [
        "HD_Class2 *= -1\n",
        "print(HD_Class2)"
      ],
      "metadata": {
        "colab": {
          "base_uri": "https://localhost:8080/"
        },
        "id": "58-Ga_1dKGcu",
        "outputId": "7b8b5898-9e4b-4908-c7a3-7e4834cfcd34"
      },
      "execution_count": null,
      "outputs": [
        {
          "output_type": "stream",
          "name": "stdout",
          "text": [
            "[[-4.   -6.25 -5.   -2.   -2.5  -1.  ]\n",
            " [-0.   -4.   -0.   -0.   -2.   -1.  ]\n",
            " [-4.   -9.   -6.   -2.   -3.   -1.  ]]\n"
          ]
        }
      ]
    },
    {
      "cell_type": "code",
      "source": [
        "HD_Points = []\n",
        "HD_Points = np.array(HD_Points)\n",
        "\n",
        "HD_Points = np.concatenate((HD_Class1 , HD_Class2), axis=0)\n",
        "\n",
        "print(HD_Points)"
      ],
      "metadata": {
        "colab": {
          "base_uri": "https://localhost:8080/"
        },
        "id": "bWytN5saLTYF",
        "outputId": "a0ef0c85-78c0-43fa-827e-05da3acc8be7"
      },
      "execution_count": null,
      "outputs": [
        {
          "output_type": "stream",
          "name": "stdout",
          "text": [
            "[[ 1.    1.    1.    1.    1.    1.  ]\n",
            " [ 1.    1.   -1.    1.   -1.    1.  ]\n",
            " [16.   25.   20.    4.    5.    1.  ]\n",
            " [-4.   -6.25 -5.   -2.   -2.5  -1.  ]\n",
            " [-0.   -4.   -0.   -0.   -2.   -1.  ]\n",
            " [-4.   -9.   -6.   -2.   -3.   -1.  ]]\n"
          ]
        }
      ]
    },
    {
      "cell_type": "code",
      "source": [
        "w = np.array([0,0,0,0,0,0])\n",
        "print(np.multiply(HD_Points , w))"
      ],
      "metadata": {
        "colab": {
          "base_uri": "https://localhost:8080/"
        },
        "id": "FiswkUB8RbFa",
        "outputId": "934ee86c-464d-4d85-d4aa-de1e94c1dbc9"
      },
      "execution_count": null,
      "outputs": [
        {
          "output_type": "stream",
          "name": "stdout",
          "text": [
            "[[ 0.  0.  0.  0.  0.  0.]\n",
            " [ 0.  0. -0.  0. -0.  0.]\n",
            " [ 0.  0.  0.  0.  0.  0.]\n",
            " [-0. -0. -0. -0. -0. -0.]\n",
            " [-0. -0. -0. -0. -0. -0.]\n",
            " [-0. -0. -0. -0. -0. -0.]]\n"
          ]
        }
      ]
    },
    {
      "cell_type": "code",
      "source": [
        " for i,x_ith in enumerate(HD_Points):\n",
        "   print(i , x_ith , np.dot(x_ith , w.T))"
      ],
      "metadata": {
        "colab": {
          "base_uri": "https://localhost:8080/"
        },
        "id": "dLpjRGlSTKWM",
        "outputId": "98ef4222-f6c6-4cd0-cd44-dac9e4c29272"
      },
      "execution_count": null,
      "outputs": [
        {
          "output_type": "stream",
          "name": "stdout",
          "text": [
            "0 [1. 1. 1. 1. 1. 1.] 0.0\n",
            "1 [ 1.  1. -1.  1. -1.  1.] 0.0\n",
            "2 [16. 25. 20.  4.  5.  1.] 0.0\n",
            "3 [-4.   -6.25 -5.   -2.   -2.5  -1.  ] 0.0\n",
            "4 [-0. -4. -0. -0. -2. -1.] 0.0\n",
            "5 [-4. -9. -6. -2. -3. -1.] 0.0\n"
          ]
        }
      ]
    },
    {
      "cell_type": "code",
      "source": [
        "def step_func(z):\n",
        "  return 0.0 if z > 0.0 else 1.0\n",
        "\n",
        "def one_at_a_time(Data_Points , weightVector , lr , epoch):\n",
        "  \n",
        "  features = Data_Points.shape[0]\n",
        "  NoOfUpdates = 0\n",
        "  NoOfIterations = 0  \n",
        "    \n",
        "  for i in range(epoch):\n",
        "    Classification = np.zeros((features , 1))\n",
        "\n",
        "    for j , x_ith in enumerate(Data_Points):\n",
        "      #Dot = int(np.dot(x_ith, weightVector.T))\n",
        "      Classification[j] = step_func((np.dot(x_ith, weightVector.T)))\n",
        "      wTy = Classification[j] * x_ith\n",
        "      weightVector += lr * wTy\n",
        "\n",
        "      NoOfUpdates  += 1 * (1 if sum(wTy) != 0 else 0)\n",
        "   \n",
        "    NoOfIterations += 1\n",
        "\n",
        "    if sum(Classification) == 0:\n",
        "        break\n",
        "  return NoOfUpdates , NoOfIterations\n",
        "\n",
        "\n",
        "def many_at_a_time(Data_Points , weightVector , lr , epoch):\n",
        "  \n",
        "  features = Data_Points.shape[0]  \n",
        "  NoOfUpdates = 0\n",
        "  NoOfIterations = 0\n",
        "    \n",
        "  for i in range(epoch):\n",
        "    Classification = np.zeros((features , 1))\n",
        "\n",
        "    for j , x_ith in enumerate(Data_Points):\n",
        "      Dot = int(np.dot(x_ith, weightVector.T))\n",
        "      Classification[j] = step_func(Dot)\n",
        "      \n",
        "    NoOfIterations += 1\n",
        "\n",
        "    if sum(Classification) == 0:\n",
        "      break\n",
        "    else:\n",
        "      wTy = sum(Classification * Data_Points)\n",
        "      weightVector = weightVector+ lr * wTy\n",
        "\n",
        "      NoOfUpdates = NoOfUpdates + 1 * (1 if sum(wTy) !=0 else 0)\n",
        "  \n",
        "  return NoOfUpdates , NoOfIterations "
      ],
      "metadata": {
        "id": "2CEzzkgdXNrT"
      },
      "execution_count": null,
      "outputs": []
    },
    {
      "cell_type": "code",
      "source": [
        "classification1 = np.zeros((6 , 1))\n",
        "print(classification1[5])\n",
        "\n",
        "classification2 = np.ones((6 , 1))\n",
        "print(sum(classification2))"
      ],
      "metadata": {
        "colab": {
          "base_uri": "https://localhost:8080/"
        },
        "id": "UoI2Uq1xX1fi",
        "outputId": "3e971769-e826-48fe-fa0c-5bf2429d2437"
      },
      "execution_count": null,
      "outputs": [
        {
          "output_type": "stream",
          "name": "stdout",
          "text": [
            "[0.]\n",
            "[6.]\n"
          ]
        }
      ]
    },
    {
      "cell_type": "code",
      "source": [
        "weights = np.array([0.0,0.0,0.0,0.0,0.0,0.0])\n",
        "print(many_at_a_time(HD_Points , weights , 0.1 , 100))\n",
        "weights = np.array([0.0,0.0,0.0,0.0,0.0,0.0])\n",
        "print(one_at_a_time(HD_Points , weights , 1.0 , 100))"
      ],
      "metadata": {
        "colab": {
          "base_uri": "https://localhost:8080/"
        },
        "id": "EcWv4YQIcD2r",
        "outputId": "ba52c387-7426-4d1e-aae2-48ffa012c134"
      },
      "execution_count": null,
      "outputs": [
        {
          "output_type": "stream",
          "name": "stdout",
          "text": [
            "(100, 100)\n",
            "(184, 94)\n"
          ]
        }
      ]
    },
    {
      "cell_type": "code",
      "source": [
        "alpha = 0.1\n",
        "\n",
        "lr = [i/10 for i in range(1,11)]\n",
        "\n",
        "cols = int(HD_Points.shape[0])\n",
        "WeightVec_Initially_Zero = np.zeros((1,cols))\n",
        "WeightVec_Initially_One = np.ones((1,cols))\n",
        "\n",
        "np.random.seed(10)\n",
        "WeightVec_Initially_Random = np.random.rand(1,cols)\n",
        "wT = 0\n",
        "\n",
        "singleiteration1 = []\n",
        "batchiteration1 = []\n",
        "\n",
        "singleiteration2 = []\n",
        "batchiteration2 = []\n",
        "\n",
        "singleiteration3 = []\n",
        "batchiteration3 = []\n",
        "\n",
        "print('Intial All Weight Zero')\n",
        "print('Alpha(Learning Rate)' , 'One At A Time Update  ' , 'One At A Time Iteration  ' , 'Many At A Time Update  ' , 'Many At A Time Iteartion')\n",
        "for j in range(len(lr)):\n",
        "  wT = WeightVec_Initially_Zero.copy()\n",
        "  NumberOfUpdatesSingle , NumberOfIterationsSingle = one_at_a_time(HD_Points , wT , lr[j] , 300)\n",
        "  NumberOfUpdatesBatch , NumberOfIterationsBatch = many_at_a_time(HD_Points , wT , lr[j] , 300)\n",
        "  singleiteration1.extend([NumberOfIterationsSingle])\n",
        "  batchiteration1.extend([NumberOfIterationsBatch])\n",
        "  print(lr[j],'\\t\\t\\t', NumberOfUpdatesSingle , '\\t\\t\\t\\t' , NumberOfIterationsSingle , '\\t\\t\\t', NumberOfUpdatesBatch , '\\t\\t\\t' , NumberOfIterationsBatch)\n",
        "  WT = 0\n",
        "\n",
        "print('\\n\\n')  \n",
        "\n",
        "print('Intial All Weight One')\n",
        "print('Alpha(Learning Rate)' , 'One At A Time Update  ' , 'One At A Time Iteration  ' , 'Many At A Time Update  ' , 'Many At A Time Iteartion')\n",
        "for j in range(len(lr)):\n",
        "  wT = WeightVec_Initially_One .copy()\n",
        "  NumberOfUpdatesSingle , NumberOfIterationsSingle = one_at_a_time(HD_Points , wT , lr[j] , 300)\n",
        "  NumberOfUpdatesBatch , NumberOfIterationsBatch = many_at_a_time(HD_Points , wT , lr[j] , 300)\n",
        "\n",
        "  singleiteration2.extend([NumberOfIterationsSingle])\n",
        "  batchiteration2.extend([NumberOfIterationsBatch])\n",
        "\n",
        "  WT = 0\n",
        "\n",
        "  print(lr[j],'\\t\\t\\t', NumberOfUpdatesSingle , '\\t\\t\\t\\t' , NumberOfIterationsSingle , '\\t\\t\\t', NumberOfUpdatesBatch , '\\t\\t\\t' , NumberOfIterationsBatch)\n",
        "\n",
        "\n",
        "print('\\n\\n') \n",
        "print('Intial All Weight Random')\n",
        "print('Alpha(Learning Rate)' , 'One At A Time Update  ' , 'One At A Time Iteration  ' , 'Many At A Time Update  ' , 'Many At A Time Iteartion')\n",
        "for j in range(len(lr)):\n",
        "  wT = WeightVec_Initially_Random .copy()\n",
        "  NumberOfUpdatesSingle , NumberOfIterationsSingle = one_at_a_time(HD_Points , wT , lr[j] , 300)\n",
        "  NumberOfUpdatesBatch , NumberOfIterationsBatch = many_at_a_time(HD_Points , wT , lr[j] , 300)\n",
        "\n",
        "  singleiteration3.extend([NumberOfIterationsSingle])\n",
        "  batchiteration3.extend([NumberOfIterationsBatch])\n",
        "\n",
        "  WT = 0\n",
        "\n",
        "  print(lr[j],'\\t\\t\\t', NumberOfUpdatesSingle , '\\t\\t\\t\\t' , NumberOfIterationsSingle , '\\t\\t\\t', NumberOfUpdatesBatch , '\\t\\t\\t' , NumberOfIterationsBatch)"
      ],
      "metadata": {
        "colab": {
          "base_uri": "https://localhost:8080/"
        },
        "id": "e4Zss6QZ21Ai",
        "outputId": "04f4f187-e3a2-4ad3-c5b6-34b3d0a72032"
      },
      "execution_count": null,
      "outputs": [
        {
          "output_type": "stream",
          "name": "stdout",
          "text": [
            "Intial All Weight Zero\n",
            "Alpha(Learning Rate) One At A Time Update   One At A Time Iteration   Many At A Time Update   Many At A Time Iteartion\n",
            "0.1 \t\t\t 184 \t\t\t\t 94 \t\t\t 128 \t\t\t 129\n",
            "0.2 \t\t\t 184 \t\t\t\t 94 \t\t\t 58 \t\t\t 59\n",
            "0.3 \t\t\t 184 \t\t\t\t 94 \t\t\t 40 \t\t\t 41\n",
            "0.4 \t\t\t 184 \t\t\t\t 94 \t\t\t 26 \t\t\t 27\n",
            "0.5 \t\t\t 184 \t\t\t\t 94 \t\t\t 26 \t\t\t 27\n",
            "0.6 \t\t\t 184 \t\t\t\t 94 \t\t\t 26 \t\t\t 27\n",
            "0.7 \t\t\t 184 \t\t\t\t 94 \t\t\t 0 \t\t\t 1\n",
            "0.8 \t\t\t 184 \t\t\t\t 94 \t\t\t 0 \t\t\t 1\n",
            "0.9 \t\t\t 184 \t\t\t\t 94 \t\t\t 0 \t\t\t 1\n",
            "1.0 \t\t\t 184 \t\t\t\t 94 \t\t\t 0 \t\t\t 1\n",
            "\n",
            "\n",
            "\n",
            "Intial All Weight One\n",
            "Alpha(Learning Rate) One At A Time Update   One At A Time Iteration   Many At A Time Update   Many At A Time Iteartion\n",
            "0.1 \t\t\t 13 \t\t\t\t 6 \t\t\t 141 \t\t\t 142\n",
            "0.2 \t\t\t 179 \t\t\t\t 92 \t\t\t 58 \t\t\t 59\n",
            "0.3 \t\t\t 199 \t\t\t\t 104 \t\t\t 20 \t\t\t 21\n",
            "0.4 \t\t\t 202 \t\t\t\t 106 \t\t\t 20 \t\t\t 21\n",
            "0.5 \t\t\t 182 \t\t\t\t 93 \t\t\t 26 \t\t\t 27\n",
            "0.6 \t\t\t 180 \t\t\t\t 93 \t\t\t 26 \t\t\t 27\n",
            "0.7 \t\t\t 203 \t\t\t\t 108 \t\t\t 0 \t\t\t 1\n",
            "0.8 \t\t\t 215 \t\t\t\t 115 \t\t\t 0 \t\t\t 1\n",
            "0.9 \t\t\t 183 \t\t\t\t 94 \t\t\t 0 \t\t\t 1\n",
            "1.0 \t\t\t 183 \t\t\t\t 94 \t\t\t 0 \t\t\t 1\n",
            "\n",
            "\n",
            "\n",
            "Intial All Weight Random\n",
            "Alpha(Learning Rate) One At A Time Update   One At A Time Iteration   Many At A Time Update   Many At A Time Iteartion\n",
            "0.1 \t\t\t 186 \t\t\t\t 97 \t\t\t 62 \t\t\t 63\n",
            "0.2 \t\t\t 187 \t\t\t\t 95 \t\t\t 27 \t\t\t 28\n",
            "0.3 \t\t\t 180 \t\t\t\t 93 \t\t\t 54 \t\t\t 55\n",
            "0.4 \t\t\t 193 \t\t\t\t 101 \t\t\t 0 \t\t\t 1\n",
            "0.5 \t\t\t 201 \t\t\t\t 106 \t\t\t 0 \t\t\t 1\n",
            "0.6 \t\t\t 213 \t\t\t\t 113 \t\t\t 6 \t\t\t 7\n",
            "0.7 \t\t\t 181 \t\t\t\t 94 \t\t\t 26 \t\t\t 27\n",
            "0.8 \t\t\t 211 \t\t\t\t 113 \t\t\t 0 \t\t\t 1\n",
            "0.9 \t\t\t 204 \t\t\t\t 108 \t\t\t 5 \t\t\t 6\n",
            "1.0 \t\t\t 191 \t\t\t\t 101 \t\t\t 26 \t\t\t 27\n"
          ]
        }
      ]
    },
    {
      "cell_type": "code",
      "source": [
        "print(singleiteration1)\n",
        "print(lr)"
      ],
      "metadata": {
        "id": "sKeJJHEUFY6X",
        "colab": {
          "base_uri": "https://localhost:8080/"
        },
        "outputId": "da72fbe0-49ad-4e5c-9900-d1833fd5430a"
      },
      "execution_count": null,
      "outputs": [
        {
          "output_type": "stream",
          "name": "stdout",
          "text": [
            "[94, 94, 94, 94, 94, 94, 94, 94, 94, 94]\n",
            "[0.1, 0.2, 0.3, 0.4, 0.5, 0.6, 0.7, 0.8, 0.9, 1.0]\n"
          ]
        }
      ]
    },
    {
      "cell_type": "code",
      "source": [
        "plt.figure(figsize=(16,9))\n",
        " \n",
        "classes_index = np.arange(len(lr))\n",
        " \n",
        "width = 0.2\n",
        " \n",
        "plt.bar(classes_index, singleiteration1, width , color = \"b\",\n",
        "        label =\" One at a time\") #visible=False\n",
        " \n",
        "plt.bar(classes_index + width, batchiteration1, width , color = \"g\",\n",
        "        label =\" Many at a time\") \n",
        "\n",
        "plt.xticks(classes_index + width, lr)\n",
        "\n",
        "plt.title(\"All zero perceptron comparison\", fontsize = 18)\n",
        "plt.xlabel(\"learning rate\",fontsize = 15)\n",
        "plt.ylabel(\"No. of iterations\", fontsize = 15)\n",
        "plt.legend()\n",
        "plt.show()"
      ],
      "metadata": {
        "colab": {
          "base_uri": "https://localhost:8080/",
          "height": 576
        },
        "id": "7h64C3OfAsbi",
        "outputId": "041aff9a-3900-454e-f72f-32712d43dff1"
      },
      "execution_count": null,
      "outputs": [
        {
          "output_type": "display_data",
          "data": {
            "text/plain": [
              "<Figure size 1152x648 with 1 Axes>"
            ],
            "image/png": "[encoded data removed]"
          },
          "metadata": {
            "needs_background": "light"
          }
        }
      ]
    },
    {
      "cell_type": "code",
      "source": [
        "plt.figure(figsize=(16,9))\n",
        " \n",
        "classes_index = np.arange(len(lr))\n",
        " \n",
        "width = 0.2\n",
        " \n",
        "plt.bar(classes_index, singleiteration2, width , color = \"b\",\n",
        "        label =\" One at a time\") #visible=False\n",
        " \n",
        "plt.bar(classes_index + width, batchiteration2, width , color = \"g\",\n",
        "        label =\" Many at a time\") \n",
        "\n",
        "plt.xticks(classes_index + width, lr)\n",
        "\n",
        "plt.title(\"All one perceptron comparison\", fontsize = 18)\n",
        "plt.xlabel(\"learning rate\",fontsize = 15)\n",
        "plt.ylabel(\"No. of iterations\", fontsize = 15)\n",
        "plt.legend()\n",
        "plt.show()"
      ],
      "metadata": {
        "colab": {
          "base_uri": "https://localhost:8080/",
          "height": 576
        },
        "id": "W__YDX8ZDLOz",
        "outputId": "6220de69-475f-45a5-ea08-badc1b686fa7"
      },
      "execution_count": null,
      "outputs": [
        {
          "output_type": "display_data",
          "data": {
            "text/plain": [
              "<Figure size 1152x648 with 1 Axes>"
            ],
            "image/png": "[encoded data removed]"
          },
          "metadata": {
            "needs_background": "light"
          }
        }
      ]
    },
    {
      "cell_type": "code",
      "source": [
        "plt.figure(figsize=(16,9))\n",
        " \n",
        "classes_index = np.arange(len(lr))\n",
        " \n",
        "width = 0.2\n",
        " \n",
        "plt.bar(classes_index, singleiteration3, width , color = \"b\",\n",
        "        label =\" One at a time\") #visible=False\n",
        " \n",
        "plt.bar(classes_index + width, batchiteration3, width , color = \"g\",\n",
        "        label =\" Many at a time\") \n",
        "\n",
        "plt.xticks(classes_index + width, lr)\n",
        "\n",
        "plt.title(\"All random perceptron comparison\", fontsize = 18)\n",
        "plt.xlabel(\"learning rate\",fontsize = 15)\n",
        "plt.ylabel(\"No. of iterations\", fontsize = 15)\n",
        "plt.legend()\n",
        "plt.show()"
      ],
      "metadata": {
        "colab": {
          "base_uri": "https://localhost:8080/",
          "height": 576
        },
        "id": "QZwUyniQDRNL",
        "outputId": "3fb2cee4-60d5-4dc8-8281-2dbf13feacc7"
      },
      "execution_count": null,
      "outputs": [
        {
          "output_type": "display_data",
          "data": {
            "text/plain": [
              "<Figure size 1152x648 with 1 Axes>"
            ],
            "image/png": "[encoded data removed]"
          },
          "metadata": {
            "needs_background": "light"
          }
        }
      ]
    }
  ]
}