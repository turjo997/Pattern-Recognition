{
  "nbformat": 4,
  "nbformat_minor": 0,
  "metadata": {
    "colab": {
      "provenance": [],
      "authorship_tag": "ABX9TyMC2RD+CEs9ZH42wG37mPH/",
      "include_colab_link": true
    },
    "kernelspec": {
      "name": "python3",
      "display_name": "Python 3"
    },
    "language_info": {
      "name": "python"
    },
    "accelerator": "GPU",
    "gpuClass": "standard"
  },
  "cells": [
    {
      "cell_type": "markdown",
      "metadata": {
        "id": "view-in-github",
        "colab_type": "text"
      },
      "source": [
        "<a href=\"https://colab.research.google.com/github/turjo997/Pattern-Recognition/blob/main/Minimum_Distance_to_class_mean.ipynb\" target=\"_parent\"><img src=\"https://colab.research.google.com/assets/colab-badge.svg\" alt=\"Open In Colab\"/></a>"
      ]
    },
    {
      "cell_type": "code",
      "execution_count": null,
      "metadata": {
        "id": "RqXejC2t3TFt"
      },
      "outputs": [],
      "source": [
        "import pandas as pd\n",
        "import numpy as np\n",
        "from matplotlib import pyplot as plt\n",
        "%matplotlib inline"
      ]
    },
    {
      "cell_type": "code",
      "source": [
        "from google.colab import drive\n",
        "drive.mount('/content/drive')"
      ],
      "metadata": {
        "colab": {
          "base_uri": "https://localhost:8080/"
        },
        "id": "0rNgwzEL4-jV",
        "outputId": "79adf25c-4cdc-4b74-9b1c-6812c38713d5"
      },
      "execution_count": null,
      "outputs": [
        {
          "output_type": "stream",
          "name": "stdout",
          "text": [
            "Mounted at /content/drive\n"
          ]
        }
      ]
    },
    {
      "cell_type": "code",
      "source": [
        "dir = \"/content/drive/MyDrive/PatternRecognition/Assignment1/train.txt\""
      ],
      "metadata": {
        "id": "XSx3oriu5Dqd"
      },
      "execution_count": null,
      "outputs": []
    },
    {
      "cell_type": "code",
      "source": [
        "df1 = pd.read_csv(dir, sep=\" \" , header = None,dtype = 'Float64')\n",
        "df1.columns = ['X1','X2','Class_label']\n",
        "print(df1)"
      ],
      "metadata": {
        "colab": {
          "base_uri": "https://localhost:8080/"
        },
        "id": "N66eeo6O5NsG",
        "outputId": "24ed086d-fd57-43b8-978a-2bd5e95a7095"
      },
      "execution_count": null,
      "outputs": [
        {
          "output_type": "stream",
          "name": "stdout",
          "text": [
            "     X1   X2  Class_label\n",
            "0   2.0  2.0          1.0\n",
            "1   3.0  1.0          1.0\n",
            "2  -4.0  3.0          2.0\n",
            "3   3.0  3.0          1.0\n",
            "4  -1.0 -3.0          1.0\n",
            "5   2.0  6.0          2.0\n",
            "6   4.0  2.0          1.0\n",
            "7  -2.0 -2.0          1.0\n",
            "8   0.0  0.0          2.0\n",
            "9  -2.0  2.0          2.0\n",
            "10 -1.0 -1.0          2.0\n",
            "11 -4.0  2.0          2.0\n"
          ]
        }
      ]
    },
    {
      "cell_type": "code",
      "source": [
        "Feature1 = np.array(df1['X1'].copy())\n",
        "Feature2 = np.array(df1['X2'].copy())\n",
        "level = np.array(df1['Class_label'].copy())"
      ],
      "metadata": {
        "id": "0bhrXbUG5eU1"
      },
      "execution_count": null,
      "outputs": []
    },
    {
      "cell_type": "code",
      "source": [
        "x = np.mean(Feature1)\n",
        "y = np.mean(Feature2)\n",
        "print(x)\n",
        "print(y)"
      ],
      "metadata": {
        "colab": {
          "base_uri": "https://localhost:8080/"
        },
        "id": "i9NdBi6w5gv3",
        "outputId": "81fd09e9-c5d9-432b-ec0e-84e3684d6f1c"
      },
      "execution_count": null,
      "outputs": [
        {
          "output_type": "stream",
          "name": "stdout",
          "text": [
            "0.0\n",
            "1.25\n"
          ]
        }
      ]
    },
    {
      "cell_type": "code",
      "source": [
        "class1X1 = []\n",
        "class1X2 = []\n",
        "\n",
        "class2X1 = []\n",
        "class2X2 = []\n",
        "\n",
        "for i in range(len(level)):\n",
        "\n",
        "  if (level[i] == 1.0):\n",
        "    class1X1.append(Feature1[i])\n",
        "    class1X2.append(Feature2[i])\n",
        "  else:\n",
        "    class2X1.append(Feature1[i])\n",
        "    class2X2.append(Feature2[i])\n",
        "\n",
        "plt.figure(figsize=(8,5))\n",
        "plt.scatter(class1X1, class1X2, c='red', label = 'Training Class-1', marker = '+')\n",
        "plt.scatter(class2X1, class2X2, c='blue', label = 'Training Class-2', marker = 'o')\n",
        "plt.legend(loc = 'upper left')\n",
        "plt.show()"
      ],
      "metadata": {
        "colab": {
          "base_uri": "https://localhost:8080/",
          "height": 320
        },
        "id": "x2tWx0Q05jh7",
        "outputId": "0ff49584-bab1-491d-9388-eb0d6a9ae33c"
      },
      "execution_count": null,
      "outputs": [
        {
          "output_type": "display_data",
          "data": {
            "text/plain": [
              "<Figure size 576x360 with 1 Axes>"
            ],
            "image/png": "[encoded data removed]"
          },
          "metadata": {
            "needs_background": "light"
          }
        }
      ]
    },
    {
      "cell_type": "code",
      "source": [
        "dir1 = \"/content/drive/MyDrive/PatternRecognition/Assignment1/test.txt\"\n",
        "#df2 = pd.read_csv(dir1, sep=\" \" , header = None,dtype = 'Float64')\n",
        "df2 = pd.read_csv(dir1 , sep=' ',header=None,dtype='Int64');  \n",
        "testval = df2.values\n",
        "df2.columns = ['X1','X2','Class_label']\n",
        "print(testval)"
      ],
      "metadata": {
        "colab": {
          "base_uri": "https://localhost:8080/"
        },
        "id": "0aaj7FRiEPrJ",
        "outputId": "8f88f25a-e5af-46a8-f598-3680a118f7de"
      },
      "execution_count": null,
      "outputs": [
        {
          "output_type": "stream",
          "name": "stdout",
          "text": [
            "[[-1 -5 1]\n",
            " [3 2 1]\n",
            " [-2 1 2]\n",
            " [8 2 1]\n",
            " [6 -1 1]\n",
            " [0 2 1]\n",
            " [-3 0 2]]\n"
          ]
        }
      ]
    },
    {
      "cell_type": "code",
      "source": [
        "feature1 = np.array(df2['X1'].copy())\n",
        "feature2 = np.array(df2['X2'].copy())\n",
        "level1 = np.array(df2['Class_label'].copy())\n",
        "print(level1)"
      ],
      "metadata": {
        "colab": {
          "base_uri": "https://localhost:8080/"
        },
        "id": "McX2AAM1EjOq",
        "outputId": "e708043c-bd6e-42e8-93bc-7673d1275f49"
      },
      "execution_count": null,
      "outputs": [
        {
          "output_type": "stream",
          "name": "stdout",
          "text": [
            "[1 1 2 1 1 1 2]\n"
          ]
        }
      ]
    },
    {
      "cell_type": "code",
      "source": [
        "import math \n",
        "for i in range(len(feature1)):\n",
        "  z = math.sqrt((feature1[i] - x) ** 2 + (feature2[i] - x) ** 2)\n",
        "  print(z)"
      ],
      "metadata": {
        "colab": {
          "base_uri": "https://localhost:8080/"
        },
        "id": "jHZFnVzQElKx",
        "outputId": "1e7e8e31-b68e-4262-8a64-deaf1a112046"
      },
      "execution_count": null,
      "outputs": [
        {
          "output_type": "stream",
          "name": "stdout",
          "text": [
            "5.0990195135927845\n",
            "3.605551275463989\n",
            "2.23606797749979\n",
            "8.246211251235321\n",
            "6.082762530298219\n",
            "2.0\n",
            "3.0\n"
          ]
        }
      ]
    },
    {
      "cell_type": "code",
      "source": [
        "for i in range(len(feature1)):\n",
        "  z = math.sqrt((feature1[i] - y) ** 2 + (feature2[i] - y) ** 2)\n",
        "  print(z)"
      ],
      "metadata": {
        "colab": {
          "base_uri": "https://localhost:8080/"
        },
        "id": "AZM9ASocGCyD",
        "outputId": "1034c6d8-bf27-4d2c-8355-f2a534c22ca0"
      },
      "execution_count": null,
      "outputs": [
        {
          "output_type": "stream",
          "name": "stdout",
          "text": [
            "6.642665127793212\n",
            "1.9039432764659772\n",
            "3.2596012026013246\n",
            "6.791538853603062\n",
            "5.25594901040716\n",
            "1.4577379737113252\n",
            "4.430011286667337\n"
          ]
        }
      ]
    },
    {
      "cell_type": "code",
      "source": [
        "print(class1X1)"
      ],
      "metadata": {
        "colab": {
          "base_uri": "https://localhost:8080/"
        },
        "id": "5gMEu1YEGOSx",
        "outputId": "7285a89b-3f04-42e9-ce0e-37c66ceb30ef"
      },
      "execution_count": null,
      "outputs": [
        {
          "output_type": "stream",
          "name": "stdout",
          "text": [
            "[2.0, 3.0, 3.0, -1.0, 4.0, -2.0]\n"
          ]
        }
      ]
    },
    {
      "cell_type": "code",
      "source": [
        "class1meanx1 = np.mean(class1X1)\n",
        "class1meanx2 = np.mean(class1X2)\n",
        "\n",
        "class2meanx1 = np.mean(class2X1)\n",
        "class2meanx2 = np.mean(class2X2)"
      ],
      "metadata": {
        "id": "JYYii__8NoI1"
      },
      "execution_count": null,
      "outputs": []
    },
    {
      "cell_type": "code",
      "source": [
        "print(class1meanx1 , class1meanx2 , class2meanx1 , class2meanx2)"
      ],
      "metadata": {
        "colab": {
          "base_uri": "https://localhost:8080/"
        },
        "id": "azNiVo4cN2ef",
        "outputId": "b2a59a61-67b5-442b-8472-666967f81d75"
      },
      "execution_count": null,
      "outputs": [
        {
          "output_type": "stream",
          "name": "stdout",
          "text": [
            "1.5 0.5 -1.5 2.0\n"
          ]
        }
      ]
    },
    {
      "cell_type": "code",
      "source": [
        "mean1=[class1meanx1 , class1meanx2]\n",
        "print(mean1)\n",
        "mean2=[class2meanx1 , class2meanx2]\n",
        "print(mean2)"
      ],
      "metadata": {
        "colab": {
          "base_uri": "https://localhost:8080/"
        },
        "id": "BK9IwbFXOEAk",
        "outputId": "dd0341da-5aa5-4f05-e82c-ab48f9388c91"
      },
      "execution_count": null,
      "outputs": [
        {
          "output_type": "stream",
          "name": "stdout",
          "text": [
            "[1.5, 0.5]\n",
            "[-1.5, 2.0]\n"
          ]
        }
      ]
    },
    {
      "cell_type": "code",
      "source": [
        "dir1 = \"/content/drive/MyDrive/PatternRecognition/Assignment1/test.txt\"\n",
        "#df2 = pd.read_csv(dir1, sep=\" \" , header = None,dtype = 'Float64')\n",
        "df2 = pd.read_csv(dir1 , sep=' ', header=None,dtype = 'Float64');  \n",
        "df2.columns = ['X1','X2','Class_label']\n",
        "testval = df2.values\n",
        "\n",
        "print(testval)"
      ],
      "metadata": {
        "colab": {
          "base_uri": "https://localhost:8080/"
        },
        "id": "JG2gVAjqU3ZH",
        "outputId": "57db6cf7-c2d0-4ab7-c1db-270bee923228"
      },
      "execution_count": null,
      "outputs": [
        {
          "output_type": "stream",
          "name": "stdout",
          "text": [
            "[[-1.0 -5.0 1.0]\n",
            " [3.0 2.0 1.0]\n",
            " [-2.0 1.0 2.0]\n",
            " [8.0 2.0 1.0]\n",
            " [6.0 -1.0 1.0]\n",
            " [0.0 2.0 1.0]\n",
            " [-3.0 0.0 2.0]]\n"
          ]
        }
      ]
    },
    {
      "cell_type": "code",
      "source": [
        "TestClass1X1 = []\n",
        "TestClass1X2 = []\n",
        "\n",
        "TestClass2X1 = []\n",
        "TestClass2X2 = []\n",
        "\n",
        "Testlevel = []\n",
        "\n",
        "for m ,n , p in testval:\n",
        " \n",
        "  arr = np.array([m,n])\n",
        "  g1 = np.dot(arr.T , mean1) - 0.5 * np.dot(mean1, mean1)\n",
        "  g2 = np.dot(arr.T , mean2) - 0.5 * np.dot(mean2, mean2)\n",
        "\n",
        "  if(g1 > g2):\n",
        "    TestClass1X1.append(arr[0])\n",
        "    TestClass1X2.append(arr[1])\n",
        "    Testlevel.extend([1])\n",
        "  else:\n",
        "    TestClass2X1.append(arr[0])\n",
        "    TestClass2X2.append(arr[0])\n",
        "    Testlevel.extend([2])\n",
        "\n"
      ],
      "metadata": {
        "id": "Jb0UA3TEPe_w"
      },
      "execution_count": null,
      "outputs": []
    },
    {
      "cell_type": "code",
      "source": [
        "print(TestClass1X1)\n",
        "print(TestClass1X2)\n",
        "print(TestClass2X1)\n",
        "print(TestClass2X2)\n",
        "print(Testlevel)\n",
        "print(level1)"
      ],
      "metadata": {
        "colab": {
          "base_uri": "https://localhost:8080/"
        },
        "id": "6dbKyEFqS0be",
        "outputId": "e95a852c-b05a-49bd-b37a-b2a8af392ca0"
      },
      "execution_count": null,
      "outputs": [
        {
          "output_type": "stream",
          "name": "stdout",
          "text": [
            "[-1.0, 3.0, 8.0, 6.0]\n",
            "[-5.0, 2.0, 2.0, -1.0]\n",
            "[-2.0, 0.0, -3.0]\n",
            "[-2.0, 0.0, -3.0]\n",
            "[1, 1, 2, 1, 1, 2, 2]\n",
            "[1 1 2 1 1 1 2]\n"
          ]
        }
      ]
    },
    {
      "cell_type": "code",
      "source": [
        "np_array = df2.to_numpy();\n",
        "print(np_array)"
      ],
      "metadata": {
        "colab": {
          "base_uri": "https://localhost:8080/"
        },
        "id": "lczFWR69UCiC",
        "outputId": "79c46475-eed6-4cbc-a3b7-68891f069871"
      },
      "execution_count": null,
      "outputs": [
        {
          "output_type": "stream",
          "name": "stdout",
          "text": [
            "[[-1 -5 1]\n",
            " [3 2 1]\n",
            " [-2 1 2]\n",
            " [8 2 1]\n",
            " [6 -1 1]\n",
            " [0 2 1]\n",
            " [-3 0 2]]\n"
          ]
        }
      ]
    },
    {
      "cell_type": "code",
      "source": [
        "plt.figure(figsize=(16,8))\n",
        "plt.scatter(class1X1, class1X2, c='red', label = 'Training Class-1', marker = '+' , s=50)\n",
        "plt.scatter(class2X1, class2X2, c='blue', label = 'Training Class-2', marker = 'o' , s=50)\n",
        "\n",
        "plt.scatter(class1meanx1, class1meanx2, c='g', label = 'Mean Class-1', marker = '^' , s=50)\n",
        "plt.scatter(class2meanx1, class2meanx2, c='m', label = 'Mean Class-1', marker = \"s\" , s=50)\n",
        "\n",
        "plt.scatter(TestClass1X1, TestClass1X2, c='y', label = 'Test Class-1', marker = \"P\" , s=50)\n",
        "plt.scatter(TestClass2X1, TestClass2X2, c='#ff7f0e', label = 'Test Class-2', marker = \"*\" , s=50)\n",
        "\n",
        "plt.legend(loc = 'upper left')\n",
        "plt.show()"
      ],
      "metadata": {
        "colab": {
          "base_uri": "https://localhost:8080/",
          "height": 483
        },
        "id": "QUHuFb5-Vksi",
        "outputId": "49ca7931-47c4-44ba-99d9-2158b0ef23dc"
      },
      "execution_count": null,
      "outputs": [
        {
          "output_type": "display_data",
          "data": {
            "text/plain": [
              "<Figure size 1152x576 with 1 Axes>"
            ],
            "image/png": "[encoded data removed]"
          },
          "metadata": {
            "needs_background": "light"
          }
        }
      ]
    },
    {
      "cell_type": "code",
      "source": [
        "correct = 0\n",
        "\n",
        "for i in range(len(Testlevel)):\n",
        "  if Testlevel[i] == level1[i]:\n",
        "    correct = correct + 1\n",
        "  \n",
        "Accuracy = (correct / len(Testlevel)) * 100\n",
        "print(Accuracy)"
      ],
      "metadata": {
        "colab": {
          "base_uri": "https://localhost:8080/"
        },
        "id": "8bfmFjcgVxd-",
        "outputId": "8b4c2feb-79c1-4cdd-b6b8-592891f3eb07"
      },
      "execution_count": null,
      "outputs": [
        {
          "output_type": "stream",
          "name": "stdout",
          "text": [
            "85.71428571428571\n"
          ]
        }
      ]
    },
    {
      "cell_type": "code",
      "source": [
        "dir = \"/content/drive/MyDrive/PatternRecognition/Assignment1/train.txt\"\n",
        "df = pd.read_csv(dir, sep=' ', header=None,dtype = 'Float64');  \n",
        "trainval = df.values\n",
        "\n",
        "print(trainval)"
      ],
      "metadata": {
        "colab": {
          "base_uri": "https://localhost:8080/"
        },
        "id": "Xg6cgMAfuPPP",
        "outputId": "726730d2-5ef5-42cd-bc4e-7eee498f0902"
      },
      "execution_count": null,
      "outputs": [
        {
          "output_type": "stream",
          "name": "stdout",
          "text": [
            "[[2.0 2.0 1.0]\n",
            " [3.0 1.0 1.0]\n",
            " [-4.0 3.0 2.0]\n",
            " [3.0 3.0 1.0]\n",
            " [-1.0 -3.0 1.0]\n",
            " [2.0 6.0 2.0]\n",
            " [4.0 2.0 1.0]\n",
            " [-2.0 -2.0 1.0]\n",
            " [0.0 0.0 2.0]\n",
            " [-2.0 2.0 2.0]\n",
            " [-1.0 -1.0 2.0]\n",
            " [-4.0 2.0 2.0]]\n"
          ]
        }
      ]
    },
    {
      "cell_type": "code",
      "source": [
        "a = np.subtract(mean1 , mean2)\n",
        "mul1 = np.dot(mean1 , mean2)\n",
        "mul2 = np.dot(mean2 , mean2)\n",
        "#print(0.5 * np.add( mul1 , mul2))\n",
        "#print(0.5 *  (mul1 + mul2))\n",
        "db_list_x=[]\n",
        "db_list_y=[]\n",
        "\n",
        "for x in [x * 0.1 for x in range(-40, 80)]:\n",
        "  Y = np.dot(a , x) - 0.5 * np.subtract(mul1 , mul2)\n",
        "  db_list_x.append(x)\n",
        "  db_list_y.append(Y[0])  "
      ],
      "metadata": {
        "id": "1pWxdAjDmy2g"
      },
      "execution_count": null,
      "outputs": []
    },
    {
      "cell_type": "code",
      "source": [
        "plt.figure(figsize=(16,8))\n",
        "plt.scatter(class1X1, class1X2, c='red', label = 'Training Class-1', marker = '+' , s=50)\n",
        "plt.scatter(class2X1, class2X2, c='blue', label = 'Training Class-2', marker = 'o' , s=50)\n",
        "\n",
        "plt.scatter(class1meanx1, class1meanx2, c='g', label = 'Mean Class-1', marker = '^' , s=50)\n",
        "plt.scatter(class2meanx1, class2meanx2, c='m', label = 'Mean Class-1', marker = \"s\" , s=50)\n",
        "\n",
        "plt.scatter(TestClass1X1, TestClass1X2, c='y', label = 'Test Class-1', marker = \"P\" , s=50)\n",
        "plt.scatter(TestClass2X1, TestClass2X2, c='#ff7f0e', label = 'Test Class-2', marker = \"*\" , s=50)\n",
        "\n",
        "plt.plot(db_list_x,db_list_y,'r--',label='Decision Boundary')\n",
        "\n",
        "plt.legend(loc = 'upper left')\n",
        "plt.show()"
      ],
      "metadata": {
        "colab": {
          "base_uri": "https://localhost:8080/",
          "height": 483
        },
        "id": "jMHEn5py563s",
        "outputId": "2ebf3a42-d7ea-4b5c-9bbf-f5eb846ce448"
      },
      "execution_count": null,
      "outputs": [
        {
          "output_type": "display_data",
          "data": {
            "text/plain": [
              "<Figure size 1152x576 with 1 Axes>"
            ],
            "image/png": "[encoded data removed]"
          },
          "metadata": {
            "needs_background": "light"
          }
        }
      ]
    },
    {
      "cell_type": "code",
      "source": [
        "print(a)"
      ],
      "metadata": {
        "colab": {
          "base_uri": "https://localhost:8080/"
        },
        "id": "Ccql2ljAs-fk",
        "outputId": "3fea8130-f3b3-4ba9-ca5e-a2f7e5909cf0"
      },
      "execution_count": null,
      "outputs": [
        {
          "output_type": "stream",
          "name": "stdout",
          "text": [
            "[ 3.  -1.5]\n"
          ]
        }
      ]
    },
    {
      "cell_type": "code",
      "source": [
        "print(mean1)\n",
        "print(mean2)"
      ],
      "metadata": {
        "colab": {
          "base_uri": "https://localhost:8080/"
        },
        "id": "J2P9ckaww9ef",
        "outputId": "44d0a1e4-b0e9-480b-e368-17a93c56c92f"
      },
      "execution_count": null,
      "outputs": [
        {
          "output_type": "stream",
          "name": "stdout",
          "text": [
            "[1.5, 0.5]\n",
            "[-1.5, 2.0]\n"
          ]
        }
      ]
    },
    {
      "cell_type": "code",
      "source": [],
      "metadata": {
        "id": "3US2qqULxXHp"
      },
      "execution_count": null,
      "outputs": []
    }
  ]
}